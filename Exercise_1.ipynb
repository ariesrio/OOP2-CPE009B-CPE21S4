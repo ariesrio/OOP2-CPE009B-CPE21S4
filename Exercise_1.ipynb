{
  "nbformat": 4,
  "nbformat_minor": 0,
  "metadata": {
    "colab": {
      "provenance": [],
      "authorship_tag": "ABX9TyPRX9HGYKuG8ENKiSxHtuEn",
      "include_colab_link": true
    },
    "kernelspec": {
      "name": "python3",
      "display_name": "Python 3"
    },
    "language_info": {
      "name": "python"
    }
  },
  "cells": [
    {
      "cell_type": "markdown",
      "metadata": {
        "id": "view-in-github",
        "colab_type": "text"
      },
      "source": [
        "<a href=\"https://colab.research.google.com/github/ariesrio/OOP2-CPE009B-CPE21S4/blob/main/Exercise_1.ipynb\" target=\"_parent\"><img src=\"https://colab.research.google.com/assets/colab-badge.svg\" alt=\"Open In Colab\"/></a>"
      ]
    },
    {
      "cell_type": "code",
      "execution_count": 21,
      "metadata": {
        "colab": {
          "base_uri": "https://localhost:8080/"
        },
        "id": "bMZjHRQLFfS1",
        "outputId": "567ff313-6e4c-4d05-afe7-4e1d146a9e89"
      },
      "outputs": [
        {
          "output_type": "stream",
          "name": "stdout",
          "text": [
            "My name is Anna, age of 19 and my birthdate is January 3,2005\n",
            "My name is Aries, age of 19 and my birthdate is March 3, 2005\n",
            "My name is Mam Sayo, age of 40 and my birthdate is JUne 24,1983\n"
          ]
        }
      ],
      "source": [
        "#class constructor\n",
        "class Person:\n",
        "  def __init__(self,name,age,birthdate):\n",
        "    self.name=name\n",
        "    self.age=age\n",
        "    self.birthdate=birthdate #defining attributes and identity\n",
        "  def  person_attribute (self): #method constructor\n",
        "    return f\"My name is {self.name}, age of {self.age} and my birthdate is {self.birthdate}\"\n",
        "class Teacher(Person): #subclass\n",
        "  pass\n",
        "class Student(Person):\n",
        "  pass\n",
        "#object instatiation\n",
        "person=Person(\"Anna\",19,\"January 3,2005\") #brhavior/instance of a class\n",
        "print(person.person_attribute())\n",
        "student=Student(\"Aries\",19,\"March 3, 2005\")\n",
        "print(student.person_attribute())\n",
        "\n",
        "#activity\n",
        "teacher = Teacher(\"Mam Sayo\",40,\"JUne 24,1983\")\n",
        "print(teacher.person_attribute())\n",
        "\n"
      ]
    },
    {
      "cell_type": "markdown",
      "source": [
        "# Python Problem"
      ],
      "metadata": {
        "id": "B2on_eHicpdk"
      }
    },
    {
      "cell_type": "code",
      "source": [
        "# Define a base class for shapes\n",
        "class Shapes:\n",
        "    def __init__(self, length, width):\n",
        "        self.length = length\n",
        "        self.width = width\n",
        "\n",
        "    def perimeter(self):\n",
        "        # Method to calculate the perimeter, to be implemented by subclasses\n",
        "        pass\n",
        "\n",
        "    def area(self):\n",
        "        # Method to calculate the area, to be implemented by subclasses\n",
        "        pass\n",
        "\n",
        "# Define a Rectangle class that inherits from Shapes\n",
        "class Rectangle(Shapes):\n",
        "    def __init__(self, length, width):\n",
        "        # Initialize the Rectangle with length and width\n",
        "        super().__init__(length, width)\n",
        "\n",
        "    def perimeter(self):\n",
        "        # Calculate the perimeter of the rectangle\n",
        "        return 2 * (self.length + self.width)\n",
        "\n",
        "    def area(self):\n",
        "        # Calculate the area of the rectangle\n",
        "        return self.length * self.width\n",
        "\n",
        "# Define a Square class that inherits from Shapes\n",
        "class Square(Shapes):\n",
        "    def __init__(self, side):\n",
        "        # Initialize the Square with side length, width is the same as length\n",
        "        super().__init__(side, side)\n",
        "\n",
        "    def perimeter(self):\n",
        "        # Calculate the perimeter of the square\n",
        "        return 4 * self.length\n",
        "\n",
        "    def area(self):\n",
        "        # Calculate the area of the square\n",
        "        return self.length * self.width\n",
        "\n",
        "# Instantiate a Rectangle object with length 6 and width 4\n",
        "rectangle = Rectangle(6, 4)\n",
        "# Print the perimeter and area of the rectangle\n",
        "print(\"Rectangle Perimeter:\", rectangle.perimeter())\n",
        "print(\"Rectangle Area:\", rectangle.area())\n",
        "\n",
        "# Instantiate a Square object with side length 5\n",
        "square = Square(5)\n",
        "# Print the perimeter and area of the square\n",
        "print(\"Square Perimeter:\", square.perimeter())\n",
        "print(\"Square Area:\", square.area())\n"
      ],
      "metadata": {
        "colab": {
          "base_uri": "https://localhost:8080/"
        },
        "id": "BhEOd5RUZTi7",
        "outputId": "1e4ae0b3-0d84-4e47-d7c0-9718f1f26e96"
      },
      "execution_count": 33,
      "outputs": [
        {
          "output_type": "stream",
          "name": "stdout",
          "text": [
            "Rectangle Perimeter: 20\n",
            "Rectangle Area: 24\n",
            "Square Perimeter: 20\n",
            "Square Area: 25\n"
          ]
        }
      ]
    }
  ]
}